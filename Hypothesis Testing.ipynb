{
 "cells": [
  {
   "cell_type": "markdown",
   "metadata": {},
   "source": [
    "### Hypothesis Testing\n",
    "The purpose of the test is to tell if there is any significant difference between two data sets."
   ]
  },
  {
   "cell_type": "markdown",
   "metadata": {},
   "source": [
    "### Overview\n",
    "This module covers,\n",
    "\n",
    "1) One sample and Two sample t-tests\n",
    "\n",
    "2) ANOVA\n",
    "\n",
    "3) Type I and Type II errors\n",
    "\n",
    "4) Chi-Squared Tests"
   ]
  },
  {
   "cell_type": "markdown",
   "metadata": {},
   "source": [
    "#### Use Case 1: \n",
    "A student is trying to decide between two GPUs. He want to use the GPU for his research to run Deep learning algorithms, so the only thing he is concerned with is speed.\n",
    "\n",
    "He picks a Deep Learning algorithm on a large data set and runs it on both GPUs 15 times, timing each run in hours. Results are given in the below lists GPU1 and GPU2."
   ]
  },
  {
   "cell_type": "code",
   "execution_count": 1,
   "metadata": {},
   "outputs": [],
   "source": [
    "from scipy import stats \n",
    "import numpy as np"
   ]
  },
  {
   "cell_type": "code",
   "execution_count": 2,
   "metadata": {},
   "outputs": [],
   "source": [
    "GPU1 = np.array([11,9,10,11,10,12,9,11,12,9,11,12,9,10,9])\n",
    "GPU2 = np.array([11,13,10,13,12,9,11,12,12,11,12,12,10,11,13])\n",
    "\n",
    "#Assumption: Both the datasets (GPU1 & GPU 2) are random, independent, parametric & normally distributed"
   ]
  },
  {
   "cell_type": "markdown",
   "metadata": {},
   "source": [
    "### One sample t-test\n",
    "\n",
    "Check if the mean of the GPU1 is equal to zero.\n",
    "\n",
    "Null Hypothesis is that mean is equal to zero.\n",
    "Alternate hypothesis is that it is not equal to zero."
   ]
  },
  {
   "cell_type": "code",
   "execution_count": 4,
   "metadata": {},
   "outputs": [
    {
     "data": {
      "text/plain": [
       "7.228892044970457e-15"
      ]
     },
     "execution_count": 4,
     "metadata": {},
     "output_type": "execute_result"
    }
   ],
   "source": [
    "p = stats.ttest_1samp(GPU1, 0)[1]\n",
    "p\n",
    "\n",
    "#Here, p-value is much less than 5% level of significance\n",
    "#So the statistical decision is to reject the null hypothesis at 5% level of significance."
   ]
  },
  {
   "cell_type": "code",
   "execution_count": 6,
   "metadata": {},
   "outputs": [
    {
     "name": "stdout",
     "output_type": "stream",
     "text": [
      "Ha= Reject Null Hypothesis/Accept alternate Hypothesis,Mean is not equal to zero\n"
     ]
    }
   ],
   "source": [
    "if(p<0.05):\n",
    "    print('Ha= Reject Null Hypothesis/Accept alternate Hypothesis,Mean is not equal to zero')\n",
    "else:\n",
    "    #The null hypothesis for a 1-sample t-test is that the there is no change.\n",
    "    print('Ho= Accept Null Hypothesis, Mean is equal to zero')"
   ]
  },
  {
   "cell_type": "code",
   "execution_count": 7,
   "metadata": {},
   "outputs": [
    {
     "data": {
      "text/plain": [
       "10.333333333333334"
      ]
     },
     "execution_count": 7,
     "metadata": {},
     "output_type": "execute_result"
    }
   ],
   "source": [
    "#Also, we see that mean of GPU1 is not equal to zero.\n",
    "GPU1.mean()"
   ]
  },
  {
   "cell_type": "markdown",
   "metadata": {},
   "source": [
    "#### Use Case 2:\n",
    "Null Hypothesis : There is no significant difference between data sets\n",
    "\n",
    "Alternate Hypothesis : There is a significant difference"
   ]
  },
  {
   "cell_type": "code",
   "execution_count": 9,
   "metadata": {},
   "outputs": [
    {
     "data": {
      "text/plain": [
       "0.013794282041452725"
      ]
     },
     "execution_count": 9,
     "metadata": {},
     "output_type": "execute_result"
    }
   ],
   "source": [
    "p = stats.ttest_ind(GPU1,GPU2)[1]\n",
    "p\n",
    "\n",
    "#p value is 0.013 and it is less than 5% level of significance\n",
    "#So the statistical decision is to reject the null hypothesis at 5% level of significance.\n",
    "#Hence, the two data sets is significantly different."
   ]
  },
  {
   "cell_type": "code",
   "execution_count": 10,
   "metadata": {},
   "outputs": [
    {
     "name": "stdout",
     "output_type": "stream",
     "text": [
      "Ha= Reject Null Hypothesis/Accept alternate Hypothesis,Significant difference in groups\n"
     ]
    }
   ],
   "source": [
    "if(p<0.05):\n",
    "    print('Ha= Reject Null Hypothesis/Accept alternate Hypothesis,Significant difference in groups')\n",
    "else:\n",
    "    #The null hypothesis for a 2-sample t-test is that groups are equal.\n",
    "    print('Ho= Accept Null Hypothesis, No significant differnce in the datasets')"
   ]
  },
  {
   "cell_type": "markdown",
   "metadata": {},
   "source": [
    "### Two-sample testing :\n",
    "He is trying a third GPU - GPU3.\n",
    "Do two-sample testing and check whether there is significant differene between speeds of two GPUs GPU1 and GPU3."
   ]
  },
  {
   "cell_type": "code",
   "execution_count": 12,
   "metadata": {},
   "outputs": [],
   "source": [
    "GPU3 = np.array([9,10,9,11,10,13,12,9,12,12,13,12,13,10,11])\n",
    "\n",
    "#Assumption: Both the datasets (GPU1 & GPU 3) are random, independent, parametric & normally distributed"
   ]
  },
  {
   "cell_type": "code",
   "execution_count": 13,
   "metadata": {},
   "outputs": [
    {
     "data": {
      "text/plain": [
       "0.14509210993138993"
      ]
     },
     "execution_count": 13,
     "metadata": {},
     "output_type": "execute_result"
    }
   ],
   "source": [
    "p = stats.ttest_ind(GPU1,GPU3)[1]\n",
    "p"
   ]
  },
  {
   "cell_type": "code",
   "execution_count": 14,
   "metadata": {},
   "outputs": [
    {
     "name": "stdout",
     "output_type": "stream",
     "text": [
      "Ho= Accept Null Hypothesis, No significant differnce in the datasets\n"
     ]
    }
   ],
   "source": [
    "if(p<0.05):\n",
    "    print('Ha= Reject Null Hypothesis/Accept alternate Hypothesis,Significant difference in groups')\n",
    "else:\n",
    "    #The null hypothesis for a 2-sample t-test is that groups are equal.\n",
    "    print('Ho= Accept Null Hypothesis, No significant differnce in the datasets')"
   ]
  },
  {
   "cell_type": "markdown",
   "metadata": {},
   "source": [
    "### ANOVA\n",
    "If you need to compare more than two data sets at a time, an ANOVA is your best bet.\n",
    "\n",
    "The results from three experiments with overlapping 95% confidence intervals are given below, and we want to confirm that the results for all three experiments are not significantly different."
   ]
  },
  {
   "cell_type": "code",
   "execution_count": 16,
   "metadata": {},
   "outputs": [],
   "source": [
    "import numpy as np\n",
    "\n",
    "e1 = np.array([1.595440,1.419730,0.000000,0.000000])\n",
    "e2 = np.array([1.433800,2.079700,0.892139,2.384740])\n",
    "e3 = np.array([0.036930,0.938018,0.995956,1.006970])\n",
    "\n",
    "#Assumption: All the 3 datasets (e1,e2 & e3) are random, independent, parametric & normally distributed"
   ]
  },
  {
   "cell_type": "markdown",
   "metadata": {},
   "source": [
    "The Levene test tests the null hypothesis that all input samples are from populations with equal variances. Levene’s test is an alternative to Bartlett’s test bartlett in the case where there are significant deviations from normality."
   ]
  },
  {
   "cell_type": "code",
   "execution_count": 23,
   "metadata": {},
   "outputs": [
    {
     "data": {
      "text/plain": [
       "0.12259792666001798"
      ]
     },
     "execution_count": 23,
     "metadata": {},
     "output_type": "execute_result"
    }
   ],
   "source": [
    "p = stats.levene(e1,e2,e3)[1]\n",
    "p\n",
    "\n",
    "#The p value > 5% meaning there is homogeneity of variances and we can proceed"
   ]
  },
  {
   "cell_type": "code",
   "execution_count": 24,
   "metadata": {},
   "outputs": [
    {
     "name": "stdout",
     "output_type": "stream",
     "text": [
      "Ho= Accept Null Hypothesis, variances are equal across all samples\n"
     ]
    }
   ],
   "source": [
    "if(p<0.05):\n",
    "    #The alternate hypothesis is that the variances are not equal for at least one pair\n",
    "    print('Ha= Reject Null Hypothesis/Accept alternate Hypothesis,variances are not equal for at least one pair')\n",
    "else:\n",
    "    #The null hypothesis for a levene test is that the variances are equal across all samples.\n",
    "    print('Ho= Accept Null Hypothesis, variances are equal across all samples')"
   ]
  },
  {
   "cell_type": "markdown",
   "metadata": {},
   "source": [
    "### One-Way ANOVA tests\n",
    "The one-way ANOVA tests the null hypothesis that two or more groups have the same population mean. The test is applied to samples from two or more groups, possibly with differing sizes."
   ]
  },
  {
   "cell_type": "code",
   "execution_count": 25,
   "metadata": {},
   "outputs": [
    {
     "data": {
      "text/plain": [
       "0.13574644501798466"
      ]
     },
     "execution_count": 25,
     "metadata": {},
     "output_type": "execute_result"
    }
   ],
   "source": [
    "p = stats.f_oneway(e1,e2,e3)[1]\n",
    "p\n",
    "#Here, p-value is much greater than 5% level of significance\n",
    "#So the statistical decision is to accept the null hypothesis at 5% level of significance."
   ]
  },
  {
   "cell_type": "code",
   "execution_count": 26,
   "metadata": {},
   "outputs": [
    {
     "name": "stdout",
     "output_type": "stream",
     "text": [
      "Ho= Accept Null Hypothesis, Two or more groups have same population mean\n"
     ]
    }
   ],
   "source": [
    "if(p<0.05):\n",
    "    #The alternate hypothesis is that there is significant difference in any the two means so they are unequal.\n",
    "    print('Ha= Reject Null Hypothesis/Accept alternate Hypothesis,Significant difference in any the two means so they are unequal')\n",
    "else:\n",
    "    #The null hypothesis for the test is that the two or more means are equal..\n",
    "    print('Ho= Accept Null Hypothesis, Two or more groups have same population mean')"
   ]
  },
  {
   "cell_type": "markdown",
   "metadata": {},
   "source": [
    "### TypeI and TypeII errors"
   ]
  },
  {
   "cell_type": "markdown",
   "metadata": {},
   "source": [
    "Type I error, also known as a “false positive”: the error of rejecting a null\n",
    "hypothesis when it is actually true. In other words, this is the error of accepting an\n",
    "alternative hypothesis (the real hypothesis of interest) when the results can be\n",
    "attributed to chance\n",
    "\n",
    "Type II error, also known as a \"false negative\": the error of not rejecting a null\n",
    "hypothesis when the alternative hypothesis is the true state of nature. In other\n",
    "words, this is the error of failing to accept an alternative hypothesis when you\n",
    "don't have adequate power"
   ]
  },
  {
   "cell_type": "markdown",
   "metadata": {},
   "source": [
    "#### Use Case 4:\n",
    "You are a manager of a chinese restaurant. You want to determine whether the waiting time to place an order has changed in the past month from its previous population mean value of 4.5 minutes. State the null and alternative hypothesis."
   ]
  },
  {
   "cell_type": "markdown",
   "metadata": {},
   "source": [
    "##### Answer: \n",
    "Null Hypothesis : The waiting time to place an order has not changed from 4.5 min in the past month.\n",
    "\n",
    "Alternate Hypothesis: The waiting time to place an order has changed from 4.5 min in the past month."
   ]
  },
  {
   "cell_type": "markdown",
   "metadata": {},
   "source": [
    "### Chi square test"
   ]
  },
  {
   "cell_type": "code",
   "execution_count": 29,
   "metadata": {},
   "outputs": [],
   "source": [
    "import numpy as np\n",
    "# Here d1 to d6 are the number of dice and four values in each dice represents value of dice for player 1 to player 4\n",
    "\n",
    "d1 = [1, 6, 3, 4]\n",
    "d2 = [2, 5, 1, 3]\n",
    "d3 = [4, 2, 3, 1]\n",
    "d4 = [3, 4, 1, 2]\n",
    "d5 = [1, 6, 3, 5]\n",
    "d6 = [3, 2, 2, 1]\n",
    "\n",
    "dice = np.array([d1, d2, d3, d4, d5, d6])"
   ]
  },
  {
   "cell_type": "markdown",
   "metadata": {},
   "source": [
    "Depending on the test, we are generally looking for a threshold at either 0.05 or 0.01. Our test is significant (i.e. we reject the null hypothesis) if we get a p-value below our threshold.\n",
    "\n",
    "For our purposes, we’ll use 0.01 as the threshold.\n",
    "\n",
    "This function computes the chi-square statistic and p-value for the hypothesis test of independence of the observed frequencies in the contingency table\n",
    "\n",
    "Print the following:\n",
    "\n",
    "chi2 stat\n",
    "p-value\n",
    "degree of freedom\n",
    "contingency"
   ]
  },
  {
   "cell_type": "code",
   "execution_count": 30,
   "metadata": {},
   "outputs": [],
   "source": [
    "chi_test = stats.chi2_contingency(dice)\n",
    "p = chi_test[1]"
   ]
  },
  {
   "cell_type": "code",
   "execution_count": 31,
   "metadata": {},
   "outputs": [
    {
     "name": "stdout",
     "output_type": "stream",
     "text": [
      "Chi2 stats value from Chi square test : 11.445004959326388\n",
      "p-value from Chi square test          : 0.720458335452983\n",
      "degree of freedom from Chi square test: 15\n",
      "contingency from Chi square test      : [[2.88235294 5.14705882 2.67647059 3.29411765]\n",
      " [2.26470588 4.04411765 2.10294118 2.58823529]\n",
      " [2.05882353 3.67647059 1.91176471 2.35294118]\n",
      " [2.05882353 3.67647059 1.91176471 2.35294118]\n",
      " [3.08823529 5.51470588 2.86764706 3.52941176]\n",
      " [1.64705882 2.94117647 1.52941176 1.88235294]]\n"
     ]
    }
   ],
   "source": [
    "print(\"Chi2 stats value from Chi square test : \"+ str(chi_test[0]))\n",
    "print(\"p-value from Chi square test          : \"+ str(chi_test[1]))\n",
    "print(\"degree of freedom from Chi square test: \"+ str(chi_test[2]))\n",
    "print(\"contingency from Chi square test      : \"+ str(chi_test[3]))"
   ]
  },
  {
   "cell_type": "code",
   "execution_count": 32,
   "metadata": {},
   "outputs": [
    {
     "name": "stdout",
     "output_type": "stream",
     "text": [
      "Ho= Accept Null Hypothesis, All the datasets are equal\n"
     ]
    }
   ],
   "source": [
    "if(p<0.01):\n",
    "    #The alternate hypothesis is that there is significant difference in any of the two datasets.\n",
    "    print('Ha= Reject Null Hypothesis/Accept alternate Hypothesis,Significant difference in any of the two datasets')\n",
    "else:\n",
    "    #The null hypothesis for Chi Square test is that all the datasets are equal. \n",
    "    print('Ho= Accept Null Hypothesis, All the datasets are equal')"
   ]
  },
  {
   "cell_type": "markdown",
   "metadata": {},
   "source": [
    "### Z-test\n",
    "Get zscore on the above dice data using stats.zscore module from scipy. Convert zscore values to p-value and take mean of the array."
   ]
  },
  {
   "cell_type": "code",
   "execution_count": 34,
   "metadata": {},
   "outputs": [
    {
     "data": {
      "text/plain": [
       "array([[-1.10096377,  0.99917458,  0.84757938,  0.81649658],\n",
       "       [-0.27524094,  0.45417026, -1.18661113,  0.20412415],\n",
       "       [ 1.37620471, -1.18084268,  0.84757938, -1.02062073],\n",
       "       [ 0.55048188, -0.09083405, -1.18661113, -0.40824829],\n",
       "       [-1.10096377,  0.99917458,  0.84757938,  1.42886902],\n",
       "       [ 0.55048188, -1.18084268, -0.16951588, -1.02062073]])"
      ]
     },
     "execution_count": 34,
     "metadata": {},
     "output_type": "execute_result"
    }
   ],
   "source": [
    "zscore = stats.zscore(dice,ddof=1)\n",
    "zscore"
   ]
  },
  {
   "cell_type": "code",
   "execution_count": 35,
   "metadata": {},
   "outputs": [
    {
     "name": "stdout",
     "output_type": "stream",
     "text": [
      "mean of the p-values are: 0.496903548959095\n"
     ]
    }
   ],
   "source": [
    "import scipy as scipy\n",
    "p_values = 1-scipy.special.ndtr(zscore)\n",
    "p_values\n",
    "print(\"mean of the p-values are: \"+ str(p_values.mean()))"
   ]
  },
  {
   "cell_type": "markdown",
   "metadata": {},
   "source": [
    "#### Use Case 5 :\n",
    "A Paired sample t-test compares means from the same group at different times.\n",
    "\n",
    "The basic two sample t-test is designed for testing differences between independent groups. In some cases, you might be interested in testing differences between samples of the same group at different points in time. We can conduct a paired t-test using the scipy function stats.ttest_rel()."
   ]
  },
  {
   "cell_type": "code",
   "execution_count": 36,
   "metadata": {},
   "outputs": [],
   "source": [
    "before= stats.norm.rvs(scale=30, loc=100, size=500) ## Creates a normal distribution with a mean value of 100 and std of 30\n",
    "after = before + stats.norm.rvs(scale=5, loc=-1.25, size=500)"
   ]
  },
  {
   "cell_type": "markdown",
   "metadata": {},
   "source": [
    "Test whether a weight-loss drug works by checking the weights of the same group patients before and after treatment using above data."
   ]
  },
  {
   "cell_type": "code",
   "execution_count": 37,
   "metadata": {},
   "outputs": [
    {
     "data": {
      "text/plain": [
       "1.003325574539875e-11"
      ]
     },
     "execution_count": 37,
     "metadata": {},
     "output_type": "execute_result"
    }
   ],
   "source": [
    "p = stats.ttest_rel(after,before)[1]\n",
    "p"
   ]
  },
  {
   "cell_type": "code",
   "execution_count": 38,
   "metadata": {},
   "outputs": [
    {
     "name": "stdout",
     "output_type": "stream",
     "text": [
      "Ha= Reject Null Hypothesis/Accept alternate Hypothesis,Drug Works\n"
     ]
    }
   ],
   "source": [
    "if(p<0.01):\n",
    "    print('Ha= Reject Null Hypothesis/Accept alternate Hypothesis,Drug Works')\n",
    "else:\n",
    "    #The default null hypothesis for a 2-sample t-test is that the two groups are equal.\n",
    "    print('Ho= . Accept Null Hypothesis, Drug did not work')"
   ]
  }
 ],
 "metadata": {
  "kernelspec": {
   "display_name": "Python 3",
   "language": "python",
   "name": "python3"
  },
  "language_info": {
   "codemirror_mode": {
    "name": "ipython",
    "version": 3
   },
   "file_extension": ".py",
   "mimetype": "text/x-python",
   "name": "python",
   "nbconvert_exporter": "python",
   "pygments_lexer": "ipython3",
   "version": "3.7.3"
  }
 },
 "nbformat": 4,
 "nbformat_minor": 2
}
