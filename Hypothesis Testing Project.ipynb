{
 "cells": [
  {
   "cell_type": "markdown",
   "metadata": {},
   "source": [
    "### PROJECT 2"
   ]
  },
  {
   "cell_type": "markdown",
   "metadata": {},
   "source": [
    "The Titan Insurance Company has just installed a new incentive payment scheme for its lift policy sales force. It wants to have an early view of the success or failure of the new scheme. Indications are that the sales force is selling more policies, but sales always vary in an unpredictable pattern from month to month and it is not clear that the scheme has made a significant difference.\n",
    "\n",
    "Life Insurance companies typically measure the monthly output of a salesperson as the total sum assured for the policies sold by that person during the month. For example, suppose salesperson X has, in the month, sold seven policies for which the sums assured are £1000, £2500, £3000, £5000, £10000, £35000. X's output for the month is the total of these sums assured, £61,500. Titan's new scheme is that the sales force receives low regular salaries but are paid large bonuses related to their output (i.e. to the total sum assured of policies sold by them). The scheme is expensive for the company, but they are looking for sales increases which more than compensate. The agreement with the sales force is that if the scheme does not at least break even for the company, it will be abandoned after six months.\n",
    "\n",
    "The scheme has now been in operation for four months. It has settled down after fluctuations in the first two months due to the changeover.\n",
    "\n",
    "To test the effectiveness of the scheme, Titan have taken a random sample of 30 salespeople measured their output in the penultimate month prior to changeover and then measured it in the fourth month after the changeover (they have deliberately chosen months not too close to the changeover). The outputs of the salespeople are in csv"
   ]
  },
  {
   "cell_type": "code",
   "execution_count": 1,
   "metadata": {},
   "outputs": [],
   "source": [
    "#importing the necessary files for processing the data\n",
    "import pandas as pd\n",
    "import numpy as np\n",
    "import scipy.stats as stats\n",
    "import scipy as scipy"
   ]
  },
  {
   "cell_type": "code",
   "execution_count": 2,
   "metadata": {},
   "outputs": [
    {
     "data": {
      "text/html": [
       "<div>\n",
       "<style scoped>\n",
       "    .dataframe tbody tr th:only-of-type {\n",
       "        vertical-align: middle;\n",
       "    }\n",
       "\n",
       "    .dataframe tbody tr th {\n",
       "        vertical-align: top;\n",
       "    }\n",
       "\n",
       "    .dataframe thead th {\n",
       "        text-align: right;\n",
       "    }\n",
       "</style>\n",
       "<table border=\"1\" class=\"dataframe\">\n",
       "  <thead>\n",
       "    <tr style=\"text-align: right;\">\n",
       "      <th></th>\n",
       "      <th>SALESPERSON</th>\n",
       "      <th>Old Scheme (in thousands)</th>\n",
       "      <th>New Scheme (in thousands)</th>\n",
       "    </tr>\n",
       "  </thead>\n",
       "  <tbody>\n",
       "    <tr>\n",
       "      <th>0</th>\n",
       "      <td>1</td>\n",
       "      <td>57</td>\n",
       "      <td>62</td>\n",
       "    </tr>\n",
       "    <tr>\n",
       "      <th>1</th>\n",
       "      <td>2</td>\n",
       "      <td>103</td>\n",
       "      <td>122</td>\n",
       "    </tr>\n",
       "    <tr>\n",
       "      <th>2</th>\n",
       "      <td>3</td>\n",
       "      <td>59</td>\n",
       "      <td>54</td>\n",
       "    </tr>\n",
       "    <tr>\n",
       "      <th>3</th>\n",
       "      <td>4</td>\n",
       "      <td>75</td>\n",
       "      <td>82</td>\n",
       "    </tr>\n",
       "    <tr>\n",
       "      <th>4</th>\n",
       "      <td>5</td>\n",
       "      <td>84</td>\n",
       "      <td>84</td>\n",
       "    </tr>\n",
       "  </tbody>\n",
       "</table>\n",
       "</div>"
      ],
      "text/plain": [
       "   SALESPERSON  Old Scheme (in thousands)  New Scheme (in thousands)\n",
       "0            1                         57                         62\n",
       "1            2                        103                        122\n",
       "2            3                         59                         54\n",
       "3            4                         75                         82\n",
       "4            5                         84                         84"
      ]
     },
     "execution_count": 2,
     "metadata": {},
     "output_type": "execute_result"
    }
   ],
   "source": [
    "#reading the csv file which has all the data in the table mentioned in the question originally\n",
    "salesperson_data = pd.read_csv(\"Salesperson_data.csv\",header=1,usecols=[1,2,3])\n",
    "salesperson_data.head()"
   ]
  },
  {
   "cell_type": "code",
   "execution_count": 3,
   "metadata": {},
   "outputs": [
    {
     "data": {
      "text/plain": [
       "SALESPERSON                  30\n",
       "Old Scheme (in thousands)    30\n",
       "New Scheme (in thousands)    30\n",
       "dtype: int64"
      ]
     },
     "execution_count": 3,
     "metadata": {},
     "output_type": "execute_result"
    }
   ],
   "source": [
    "#checking if there is any ? or blanks in the dataset\n",
    "#since all the three columns as 30 data entries so there is no ? or blank in the dataset\n",
    "salesperson_data.count()"
   ]
  },
  {
   "cell_type": "markdown",
   "metadata": {},
   "source": [
    "#### 1. Find the mean of old scheme and new scheme column. (5 points)"
   ]
  },
  {
   "cell_type": "code",
   "execution_count": 4,
   "metadata": {},
   "outputs": [
    {
     "name": "stdout",
     "output_type": "stream",
     "text": [
      "Mean of old scheme: 68033.33333333333\n",
      "Standard deviation of old scheme: 20112.157738265898\n"
     ]
    }
   ],
   "source": [
    "old_scheme = np.array(salesperson_data['Old Scheme (in thousands)']*1000)\n",
    "print(\"Mean of old scheme: \"+ str(old_scheme.mean()))\n",
    "print(\"Standard deviation of old scheme: \"+ str(old_scheme.std()))"
   ]
  },
  {
   "cell_type": "code",
   "execution_count": 5,
   "metadata": {},
   "outputs": [
    {
     "name": "stdout",
     "output_type": "stream",
     "text": [
      "Mean of new scheme: 72033.33333333333\n",
      "Standard deviation of new scheme: 23657.95614352366\n"
     ]
    }
   ],
   "source": [
    "new_scheme = np.array(salesperson_data['New Scheme (in thousands)']*1000)\n",
    "print(\"Mean of new scheme: \"+ str(new_scheme.mean()))\n",
    "print(\"Standard deviation of new scheme: \"+ str(new_scheme.std()))"
   ]
  },
  {
   "cell_type": "code",
   "execution_count": 14,
   "metadata": {},
   "outputs": [
    {
     "name": "stdout",
     "output_type": "stream",
     "text": [
      "Difference in two mean: 4000.0\n",
      "Difference in two SD: 3545.798405257763\n"
     ]
    }
   ],
   "source": [
    "mean_diff = new_scheme.mean() - old_scheme.mean()\n",
    "print(\"Difference in two mean: \"+ str(mean_diff))\n",
    "\n",
    "std_diff = new_scheme.std() - old_scheme.std()\n",
    "print(\"Difference in two SD: \"+ str(std_diff))"
   ]
  },
  {
   "cell_type": "markdown",
   "metadata": {},
   "source": [
    "#### 2. Use the five percent significance test over the data to determine the p value to check new scheme has significantly raised outputs? (10 points)"
   ]
  },
  {
   "cell_type": "code",
   "execution_count": 7,
   "metadata": {},
   "outputs": [
    {
     "data": {
      "text/plain": [
       "0.13057553961337662"
      ]
     },
     "execution_count": 7,
     "metadata": {},
     "output_type": "execute_result"
    }
   ],
   "source": [
    "#Since the data is collected before and after a new scheme was launched,it is a clear case of paired t-test.\n",
    "# alpha or confidenec level is 5% here\n",
    "# Null Hypothesis     : The new scheme did not raise outputs\n",
    "# Alternate Hypotheis : The new scheme has significantly raised outputs\n",
    "p = stats.ttest_rel(old_scheme,new_scheme)[1]\n",
    "p"
   ]
  },
  {
   "cell_type": "code",
   "execution_count": 8,
   "metadata": {},
   "outputs": [
    {
     "name": "stdout",
     "output_type": "stream",
     "text": [
      "Ho = Accept Null Hypothesis, The new scheme did not raise outputs significantly\n"
     ]
    }
   ],
   "source": [
    "if(p<0.05):\n",
    "    print(\"Ha = Accept Alternate Hypothesis, The new scheme has significantly raised outputs\")\n",
    "else:\n",
    "    print(\"Ho = Accept Null Hypothesis, The new scheme did not raise outputs significantly\")"
   ]
  },
  {
   "cell_type": "markdown",
   "metadata": {},
   "source": [
    "#### 3. What conclusion does the test (p-value) lead to? (2.5 points)"
   ]
  },
  {
   "cell_type": "markdown",
   "metadata": {},
   "source": [
    "`Null Hypothesis     : The new scheme did not raise outputs\n",
    "Alternate Hypotheis  : The new scheme has significantly raised outputs\n",
    "Since, the p-value is greater than 0.05 level of significance so, statistical decision is that the new scheme did not raise the ouputs significantly.`"
   ]
  },
  {
   "cell_type": "markdown",
   "metadata": {},
   "source": [
    "#### Suppose it has been calculated that in order for Titan to break even, the average output must increase by £5000 in the scheme compared to the old scheme. If this figure is alternative hypothesis, what is:\n",
    "####        a) The probability of a type 1 error? (2.5 points)"
   ]
  },
  {
   "cell_type": "markdown",
   "metadata": {},
   "source": [
    "`Alternate hypothesis(Ha) : The average increase in the output compared to old scheme id 5000 pound\n",
    "Null hypothesis(Ho)      : The average increase is not 5000 pound,it could be a decrease also.`\n",
    "\n",
    "`a) The probability of Type I error = significant level = 5% as we have done the hypothesis testing on 5% confidence level.`\n"
   ]
  },
  {
   "cell_type": "markdown",
   "metadata": {},
   "source": [
    "####        b) What is the p- value of the hypothesis test if we test for a difference of 5000 dollar? (10 points)"
   ]
  },
  {
   "cell_type": "code",
   "execution_count": 17,
   "metadata": {},
   "outputs": [
    {
     "name": "stdout",
     "output_type": "stream",
     "text": [
      "p-value of the hypothesis test with test differnece of $5000: 0.7001334912613286\n",
      "Ho = Accept Null Hypothesis, ifference in the mean values is less than or equal to 5000\n"
     ]
    }
   ],
   "source": [
    "#Null Hypothesis(Ho)      : Difference in the mean values is less than or equal to 5000(<=5000)\n",
    "#Alternate Hypothesis(Ha) : Difference in the mean values is greater than 5000(>5000)\n",
    "#So, this is a right tail test.\n",
    "diff = new_scheme-old_scheme\n",
    "p = stats.ttest_1samp(diff, 5000)[1]\n",
    "print(\"p-value of the hypothesis test with test differnece of $5000: \"+ str(p))\n",
    "if(p<0.05):\n",
    "    print(\"Ha = Accept Alternate Hypothesis, Difference in the mean values is greater than 5000\")\n",
    "else:\n",
    "    print(\"Ho = Accept Null Hypothesis, ifference in the mean values is less than or equal to 5000\")"
   ]
  },
  {
   "cell_type": "markdown",
   "metadata": {},
   "source": [
    "####        c) Power of the test (5 points)"
   ]
  },
  {
   "cell_type": "code",
   "execution_count": 23,
   "metadata": {},
   "outputs": [
    {
     "name": "stdout",
     "output_type": "stream",
     "text": [
      "The Power of this two sample t-test is:0.9999689090628391\n"
     ]
    }
   ],
   "source": [
    "import statsmodels.stats.power as smp\n",
    "n=30\n",
    "print(\"The Power of this two sample t-test is:\" + str(smp.ttest_power(mean_diff/std_diff, nobs=n, alpha=0.05,df=n-1, alternative=\"two-sided\")))"
   ]
  }
 ],
 "metadata": {
  "kernelspec": {
   "display_name": "Python 3",
   "language": "python",
   "name": "python3"
  },
  "language_info": {
   "codemirror_mode": {
    "name": "ipython",
    "version": 3
   },
   "file_extension": ".py",
   "mimetype": "text/x-python",
   "name": "python",
   "nbconvert_exporter": "python",
   "pygments_lexer": "ipython3",
   "version": "3.7.3"
  }
 },
 "nbformat": 4,
 "nbformat_minor": 2
}
